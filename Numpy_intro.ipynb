{
 "cells": [
  {
   "cell_type": "markdown",
   "metadata": {},
   "source": [
    "# Intro to NumPy"
   ]
  },
  {
   "cell_type": "code",
   "execution_count": 1,
   "metadata": {},
   "outputs": [],
   "source": [
    "import numpy as np"
   ]
  },
  {
   "cell_type": "markdown",
   "metadata": {},
   "source": [
    "## data types"
   ]
  },
  {
   "cell_type": "code",
   "execution_count": 2,
   "metadata": {},
   "outputs": [
    {
     "name": "stdout",
     "output_type": "stream",
     "text": [
      "[1 2 3] Type is int32\n",
      "[5 8 9] Type is int8\n"
     ]
    }
   ],
   "source": [
    "# normal int contradicts with pythons builtin int,\n",
    "# Thats why np.int_ is used, which is equal to int32\n",
    "# int8 means 8 bit or 2 bytes, int16 - 16 bits, int32\n",
    "\n",
    "# dtype obtains the data type of the array\n",
    "\n",
    "a = np.int_([1,2,3])\n",
    "print(a, \"Type is\", a.dtype)\n",
    "\n",
    "c = np.int8([5,8,9])\n",
    "print(c, \"Type is\", c.dtype)"
   ]
  },
  {
   "cell_type": "code",
   "execution_count": 3,
   "metadata": {},
   "outputs": [
    {
     "name": "stdout",
     "output_type": "stream",
     "text": [
      "[2.         4.         3.33333333] Type is float64\n",
      "[2.        4.        3.3333333] Type is float32\n"
     ]
    }
   ],
   "source": [
    "# float in numpy contradicts with pythons builtin float.\n",
    "# Thats why np.float_ is used here which is equal to float64\n",
    "# float32, float64 or double()\n",
    "\n",
    "demo_1 = 10/3\n",
    "b = np.float_([2,4,demo_1])\n",
    "print(b, \"Type is\", b.dtype)\n",
    "\n",
    "demo_2 = 10/3\n",
    "d = np.float32([2,4,demo_2])\n",
    "print(d, \"Type is\", d.dtype)\n"
   ]
  },
  {
   "cell_type": "code",
   "execution_count": 4,
   "metadata": {},
   "outputs": [
    {
     "name": "stdout",
     "output_type": "stream",
     "text": [
      "[1. 2. 3.] Type is float32\n"
     ]
    }
   ],
   "source": [
    "# Data type can be initialized also like below (Recommended)\n",
    "\n",
    "e = np.array([1,2,3], dtype='f')\n",
    "print(e, \"Type is\", e.dtype)\n"
   ]
  },
  {
   "cell_type": "code",
   "execution_count": 5,
   "metadata": {},
   "outputs": [
    {
     "name": "stdout",
     "output_type": "stream",
     "text": [
      "[1 2 3] Type is int32\n",
      "[1 2 3] Type is int16\n"
     ]
    }
   ],
   "source": [
    "# converting one type to another\n",
    "\n",
    "f = e.astype(int)\n",
    "print(f, \"Type is\", f.dtype)\n",
    "\n",
    "# or \n",
    "\n",
    "g = np.int16(e)\n",
    "print(g, \"Type is\", g.dtype)"
   ]
  },
  {
   "cell_type": "markdown",
   "metadata": {},
   "source": [
    "[Float vs Double](https://hackr.io/blog/float-vs-double)"
   ]
  },
  {
   "cell_type": "markdown",
   "metadata": {},
   "source": [
    "# array creation"
   ]
  },
  {
   "cell_type": "code",
   "execution_count": null,
   "metadata": {},
   "outputs": [],
   "source": []
  }
 ],
 "metadata": {
  "kernelspec": {
   "display_name": "Python 3",
   "language": "python",
   "name": "python3"
  },
  "language_info": {
   "codemirror_mode": {
    "name": "ipython",
    "version": 3
   },
   "file_extension": ".py",
   "mimetype": "text/x-python",
   "name": "python",
   "nbconvert_exporter": "python",
   "pygments_lexer": "ipython3",
   "version": "3.8.2"
  }
 },
 "nbformat": 4,
 "nbformat_minor": 4
}
